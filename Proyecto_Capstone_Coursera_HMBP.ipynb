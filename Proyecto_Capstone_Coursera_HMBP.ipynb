# Proyecto Capstone - Coursera  by HMBP
### Notebook para usar en proyecto final Capstone Coursera
import pandas as pd
import numpy as np
print('¡Hola Proyecto Final del curso!)
      
      
